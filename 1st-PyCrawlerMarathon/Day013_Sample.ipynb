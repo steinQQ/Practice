{
 "cells": [
  {
   "cell_type": "markdown",
   "metadata": {},
   "source": [
    "# PTT 網路爬蟲實作練習\n",
    "\n",
    "\n",
    "* 能夠利用 Request + BeatifulSour 撰寫爬蟲，並存放到合適的資料結構\n"
   ]
  },
  {
   "cell_type": "markdown",
   "metadata": {},
   "source": [
    "## PTT 網頁爬蟲"
   ]
  },
  {
   "cell_type": "code",
   "execution_count": 1,
   "metadata": {},
   "outputs": [
    {
     "name": "stdout",
     "output_type": "stream",
     "text": [
      "[新聞] Tatum:會努力幫助球隊贏球，自己也想入選\n",
      "作者: Muma5566 (木馬56)\n",
      "[花邊] Nelson談論當年Howard在魔術的\"魔獸人生\"\n",
      "作者: TheBatman (蝙蝠俠)\n",
      "[新聞] 卡特第1500場出賽 史上第5人\n",
      "作者: LinBaoYan (負酬者聯盟)\n",
      "[花邊] 厄文持續缺賽 錯失激勵獎金12.5萬美元\n",
      "作者: thnlkj0665 (灰色地帶)\n",
      "[花邊] 當湖人主場播放歌手Lizzo歌曲時，本人在場邊直接表演露臀舞\n",
      "作者: kairiyu (E N O U G H  is  enough)\n",
      "[花邊]J.J. Culver 砍下100分\n",
      "作者: innocent8675 (坤溪戴維斯)\n",
      "[花邊] KD重申了自己想要擁有一支NBA球隊的願望\n",
      "作者: NSYSUheng (Madara)\n",
      "Re: [花邊] Jimmy Butler的instagram貼文\n",
      "作者: tmac4ever ()\n",
      "[新聞] 三分砲火猛烈 伯坦斯：籃框實在太寬了\n",
      "作者: Israfil (贖罪聖音)\n",
      "[情報] New Balance 為Kawhi架設看板感謝多倫多\n",
      "作者: thnlkj0665 (灰色地帶)\n",
      "[花邊] Tacko Fall：KG是傳奇，見到他對我意義\n",
      "作者: lovea (lovea)\n",
      "(已被Vedan刪除) <qq326>1-1 1-2\n",
      "[討論] 08年京奧男籃的西班牙很謎嗎?\n",
      "作者: Darren2012 (達倫)\n",
      "(本文已被刪除) [VeryGoodBoy]\n",
      "[討論] LBJ在投三分球之前的準備動作\n",
      "作者: pneumo (超☆冒險蓋)\n",
      "[花邊] 全能後衛！Ish Smith在暫停時幫忙拖地\n",
      "作者: whoAU (你是誰？)\n",
      "[花邊] 前賽爾提克球員因未尊重中國國歌遭罰款\n",
      "作者: LinBaoYan (負酬者聯盟)\n",
      "[花邊] 舞王賽後發聲：跟隨我\n",
      "作者: s27052705 (小飽)\n",
      "[公告] 板規v6.6\n",
      "[公告] 樂透取消及未來不再開啟樂透\n",
      "作者: Vedan (味丹)\n",
      "[公告] 版主上任相關事項 \n",
      "作者: qazwsx879345 (Rajon Rondo)\n",
      "[情報] SEASON Schedule 賽程 December 19–20\n",
      "作者: JerroLi (銀色小刀)\n",
      "[公告]是否禁止basketball top 5文章投票開始 \n",
      "作者: dragon803 (好想去露營啊~)\n"
     ]
    }
   ],
   "source": [
    "import requests\n",
    "from bs4 import BeautifulSoup\n",
    "\n",
    "url = 'https://www.ptt.cc/bbs/NBA/index.html'\n",
    "r = requests.get(url)\n",
    "\n",
    "soup = BeautifulSoup(r.text, \"html5lib\")\n",
    "\n",
    "for d in soup.find_all(class_=\"title\"):\n",
    "    print(d.text.replace('\\t', '').replace('\\n', ''))\n",
    "    try:\n",
    "        r = BeautifulSoup(requests.get('https://www.ptt.cc'+d.find('a')['href']).text, \"html5lib\")\n",
    "        print('作者: ' + r.find(class_='article-meta-value').text)\n",
    "    except:\n",
    "        continue\n"
   ]
  },
  {
   "cell_type": "markdown",
   "metadata": {},
   "source": [
    "## 作業目標\n",
    "\n",
    "根據範例 ，完成以下問題：\n",
    "\n",
    "* ① 印出最新文章的「作者」「標題」「時間」\n",
    "* ② 印出第一頁所有文章的「作者」「標題」「時間」\n",
    "* ③ 試著爬爬看其他版的文章\n"
   ]
  },
  {
   "cell_type": "code",
   "execution_count": null,
   "metadata": {},
   "outputs": [],
   "source": []
  }
 ],
 "metadata": {
  "kernelspec": {
   "display_name": "Python 3",
   "language": "python",
   "name": "python3"
  },
  "language_info": {
   "codemirror_mode": {
    "name": "ipython",
    "version": 3
   },
   "file_extension": ".py",
   "mimetype": "text/x-python",
   "name": "python",
   "nbconvert_exporter": "python",
   "pygments_lexer": "ipython3",
   "version": "3.7.1"
  }
 },
 "nbformat": 4,
 "nbformat_minor": 2
}
